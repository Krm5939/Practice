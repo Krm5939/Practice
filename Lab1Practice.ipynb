{
  "nbformat": 4,
  "nbformat_minor": 0,
  "metadata": {
    "colab": {
      "name": "Lab1Practice.ipynb",
      "provenance": [],
      "collapsed_sections": [],
      "authorship_tag": "ABX9TyOlzG+BVK2WA6tK9M5yaz+s",
      "include_colab_link": true
    },
    "kernelspec": {
      "name": "python3",
      "display_name": "Python 3"
    }
  },
  "cells": [
    {
      "cell_type": "markdown",
      "metadata": {
        "id": "view-in-github",
        "colab_type": "text"
      },
      "source": [
        "<a href=\"https://colab.research.google.com/github/Krm5939/Practice/blob/master/Lab1Practice.ipynb\" target=\"_parent\"><img src=\"https://colab.research.google.com/assets/colab-badge.svg\" alt=\"Open In Colab\"/></a>"
      ]
    },
    {
      "cell_type": "code",
      "metadata": {
        "id": "w0FDy5Q8uuTd",
        "colab_type": "code",
        "colab": {}
      },
      "source": [
        ""
      ],
      "execution_count": null,
      "outputs": []
    },
    {
      "cell_type": "markdown",
      "metadata": {
        "id": "gjwcB2pqvUJr",
        "colab_type": "text"
      },
      "source": [
        "## Do you like using Jupyter Notebooks?\n"
      ]
    },
    {
      "cell_type": "markdown",
      "metadata": {
        "id": "ogHXjY-ewT47",
        "colab_type": "text"
      },
      "source": [
        "Yes. I like using Jupyter Notebooks.\n",
        "It is a little confusing at first, however."
      ]
    },
    {
      "cell_type": "markdown",
      "metadata": {
        "id": "8u94n5xwJMTo",
        "colab_type": "text"
      },
      "source": [
        "## What do you want to learn more about in Jupyter Notebooks?\n"
      ]
    },
    {
      "cell_type": "markdown",
      "metadata": {
        "id": "Egj_D1YLJkHs",
        "colab_type": "text"
      },
      "source": [
        "I want to learn more about code. I don't know much and would like to learn how to navigate Jupyter Notebooks."
      ]
    },
    {
      "cell_type": "markdown",
      "metadata": {
        "id": "j6sGdC6EJwdO",
        "colab_type": "text"
      },
      "source": [
        "![cat](https://raw.githubusercontent.com/Krm5939/Practice/master/images/snickers.JPG) "
      ]
    }
  ]
}